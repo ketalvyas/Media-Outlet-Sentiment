{
 "cells": [
  {
   "cell_type": "code",
   "execution_count": 26,
   "metadata": {},
   "outputs": [],
   "source": [
    "import tweepy\n",
    "import json\n",
    "import numpy as np\n",
    "import time\n",
    "import pandas as pd\n",
    "import matplotlib.pyplot as plt\n",
    "from vaderSentiment.vaderSentiment import SentimentIntensityAnalyzer\n",
    "analyzer = SentimentIntensityAnalyzer()"
   ]
  },
  {
   "cell_type": "code",
   "execution_count": 27,
   "metadata": {},
   "outputs": [],
   "source": [
    "consumer_key = \"G4HwOPcd5tvlbpFQH0GxpcqZK\"\n",
    "consumer_secret = \"NRTulJRrT8dfgEAk2m05C79YOzs08O62EEYM5Ltw1mXBwgtqAQ\"\n",
    "access_token = \"2218729952-cunuHSfnxQkAV2LGY6tCsiQ7BWUYelMlLwBf5UK\"\n",
    "access_token_secret = \"Jjaya2VMvlY8b8g8QBh9LMhJNXpAEzqbHRW2gbKVSLmja\"\n",
    "\n",
    "auth = tweepy.OAuthHandler(consumer_key, consumer_secret)\n",
    "auth.set_access_token(access_token, access_token_secret)\n",
    "api = tweepy.API(auth, parser=tweepy.parsers.JSONParser())\n"
   ]
  },
  {
   "cell_type": "code",
   "execution_count": 28,
   "metadata": {},
   "outputs": [],
   "source": [
    "target_users = [\"@BBCWorld\", \"@CBSNews\", \"@CNN\", \"@FoxNews\", \"@nytimes\"]"
   ]
  },
  {
   "cell_type": "code",
   "execution_count": 29,
   "metadata": {},
   "outputs": [],
   "source": [
    "source_account = []\n",
    "text = []\n",
    "date = []\n",
    "compound_list = []\n",
    "positive_list = []\n",
    "neutral_list = []\n",
    "negative_list = []\n",
    "tweets_ago = []"
   ]
  },
  {
   "cell_type": "code",
   "execution_count": 30,
   "metadata": {},
   "outputs": [],
   "source": [
    "for user in target_users:\n",
    "    \n",
    "    tweet_count = 0\n",
    "\n",
    "    for x in range(5):\n",
    "        public_tweets = api.user_timeline(user, page=x)\n",
    "\n",
    "        for tweet in public_tweets:\n",
    "        \n",
    "            tweet_count += 1\n",
    "    \n",
    "            source_account.append(user)\n",
    "            text.append(tweet['text'])\n",
    "            date.append(tweet['created_at'])\n",
    "            tweets_ago.append(tweet_count)\n",
    "    \n",
    "            compound = analyzer.polarity_scores(tweet[\"text\"])[\"compound\"]\n",
    "            pos = analyzer.polarity_scores(tweet[\"text\"])[\"pos\"]\n",
    "            neu = analyzer.polarity_scores(tweet[\"text\"])[\"neu\"]\n",
    "            neg = analyzer.polarity_scores(tweet[\"text\"])[\"neg\"]\n",
    "    \n",
    "            compound_list.append(compound)\n",
    "            positive_list.append(pos)\n",
    "            neutral_list.append(neu)\n",
    "            negative_list.append(neg)\n"
   ]
  },
  {
   "cell_type": "code",
   "execution_count": 31,
   "metadata": {},
   "outputs": [
    {
     "data": {
      "text/html": [
       "<div>\n",
       "<style scoped>\n",
       "    .dataframe tbody tr th:only-of-type {\n",
       "        vertical-align: middle;\n",
       "    }\n",
       "\n",
       "    .dataframe tbody tr th {\n",
       "        vertical-align: top;\n",
       "    }\n",
       "\n",
       "    .dataframe thead th {\n",
       "        text-align: right;\n",
       "    }\n",
       "</style>\n",
       "<table border=\"1\" class=\"dataframe\">\n",
       "  <thead>\n",
       "    <tr style=\"text-align: right;\">\n",
       "      <th></th>\n",
       "      <th>Source Account</th>\n",
       "      <th>Tweet</th>\n",
       "      <th>Date</th>\n",
       "      <th>Compound Score</th>\n",
       "      <th>Positive Score</th>\n",
       "      <th>Neutral Score</th>\n",
       "      <th>Negative Score</th>\n",
       "      <th>Tweets Ago</th>\n",
       "    </tr>\n",
       "  </thead>\n",
       "  <tbody>\n",
       "    <tr>\n",
       "      <th>0</th>\n",
       "      <td>@BBCWorld</td>\n",
       "      <td>Banning the Uluru climb: 'This rock means ever...</td>\n",
       "      <td>Thu Jun 28 15:16:20 +0000 2018</td>\n",
       "      <td>0.0000</td>\n",
       "      <td>0.0</td>\n",
       "      <td>1.000</td>\n",
       "      <td>0.000</td>\n",
       "      <td>1</td>\n",
       "    </tr>\n",
       "    <tr>\n",
       "      <th>1</th>\n",
       "      <td>@BBCWorld</td>\n",
       "      <td>RT @BBCSport: HT: #SEN 0-0 #COL \\n\\nNo goals y...</td>\n",
       "      <td>Thu Jun 28 14:49:50 +0000 2018</td>\n",
       "      <td>-0.6369</td>\n",
       "      <td>0.0</td>\n",
       "      <td>0.809</td>\n",
       "      <td>0.191</td>\n",
       "      <td>2</td>\n",
       "    </tr>\n",
       "    <tr>\n",
       "      <th>2</th>\n",
       "      <td>@BBCWorld</td>\n",
       "      <td>RT @BBCSport: HT: #JPN 0-0 #POL \\n\\nPoland cam...</td>\n",
       "      <td>Thu Jun 28 14:48:42 +0000 2018</td>\n",
       "      <td>0.0000</td>\n",
       "      <td>0.0</td>\n",
       "      <td>1.000</td>\n",
       "      <td>0.000</td>\n",
       "      <td>3</td>\n",
       "    </tr>\n",
       "    <tr>\n",
       "      <th>3</th>\n",
       "      <td>@BBCWorld</td>\n",
       "      <td>RT @BBCNews: Belgium PM @CharlesMichel present...</td>\n",
       "      <td>Thu Jun 28 14:18:11 +0000 2018</td>\n",
       "      <td>0.0000</td>\n",
       "      <td>0.0</td>\n",
       "      <td>1.000</td>\n",
       "      <td>0.000</td>\n",
       "      <td>4</td>\n",
       "    </tr>\n",
       "    <tr>\n",
       "      <th>4</th>\n",
       "      <td>@BBCWorld</td>\n",
       "      <td>Syria war: Air strike on Deraa shelter kills 1...</td>\n",
       "      <td>Thu Jun 28 14:07:47 +0000 2018</td>\n",
       "      <td>-0.8360</td>\n",
       "      <td>0.0</td>\n",
       "      <td>0.473</td>\n",
       "      <td>0.527</td>\n",
       "      <td>5</td>\n",
       "    </tr>\n",
       "  </tbody>\n",
       "</table>\n",
       "</div>"
      ],
      "text/plain": [
       "  Source Account                                              Tweet  \\\n",
       "0      @BBCWorld  Banning the Uluru climb: 'This rock means ever...   \n",
       "1      @BBCWorld  RT @BBCSport: HT: #SEN 0-0 #COL \\n\\nNo goals y...   \n",
       "2      @BBCWorld  RT @BBCSport: HT: #JPN 0-0 #POL \\n\\nPoland cam...   \n",
       "3      @BBCWorld  RT @BBCNews: Belgium PM @CharlesMichel present...   \n",
       "4      @BBCWorld  Syria war: Air strike on Deraa shelter kills 1...   \n",
       "\n",
       "                             Date  Compound Score  Positive Score  \\\n",
       "0  Thu Jun 28 15:16:20 +0000 2018          0.0000             0.0   \n",
       "1  Thu Jun 28 14:49:50 +0000 2018         -0.6369             0.0   \n",
       "2  Thu Jun 28 14:48:42 +0000 2018          0.0000             0.0   \n",
       "3  Thu Jun 28 14:18:11 +0000 2018          0.0000             0.0   \n",
       "4  Thu Jun 28 14:07:47 +0000 2018         -0.8360             0.0   \n",
       "\n",
       "   Neutral Score  Negative Score  Tweets Ago  \n",
       "0          1.000           0.000           1  \n",
       "1          0.809           0.191           2  \n",
       "2          1.000           0.000           3  \n",
       "3          1.000           0.000           4  \n",
       "4          0.473           0.527           5  "
      ]
     },
     "execution_count": 31,
     "metadata": {},
     "output_type": "execute_result"
    }
   ],
   "source": [
    "tweet_info = {\n",
    "    \"Source Account\": source_account,\n",
    "    \"Tweet\": text,\n",
    "    \"Date\": date,\n",
    "    \"Compound Score\": compound_list,\n",
    "    \"Positive Score\": positive_list,\n",
    "    \"Neutral Score\": neutral_list,\n",
    "    \"Negative Score\": negative_list,\n",
    "    \"Tweets Ago\": tweets_ago\n",
    "}\n",
    "\n",
    "tweets_df = pd.DataFrame(tweet_info, columns = ['Source Account', 'Tweet', 'Date', 'Compound Score', 'Positive Score',\n",
    "                                               'Neutral Score', 'Negative Score', 'Tweets Ago'])\n",
    "tweets_df.head()"
   ]
  },
  {
   "cell_type": "code",
   "execution_count": 32,
   "metadata": {},
   "outputs": [],
   "source": [
    "bbc = tweets_df.loc[tweets_df['Source Account'] == '@BBCWorld']\n",
    "cbs = tweets_df.loc[tweets_df['Source Account'] == '@CBSNews']\n",
    "cnn = tweets_df.loc[tweets_df['Source Account'] == '@CNN']\n",
    "fox = tweets_df.loc[tweets_df['Source Account'] == '@FoxNews']\n",
    "nyt = tweets_df.loc[tweets_df['Source Account'] == '@nytimes']"
   ]
  },
  {
   "cell_type": "code",
   "execution_count": 33,
   "metadata": {},
   "outputs": [
    {
     "data": {
      "image/png": "[encoded data removed]",
      "text/plain": [
       "<Figure size 432x288 with 1 Axes>"
      ]
     },
     "metadata": {},
     "output_type": "display_data"
    }
   ],
   "source": [
    "plt.scatter(bbc['Tweets Ago'], bbc['Compound Score'], c='c', edgecolor='k', label='BBCWorld')\n",
    "plt.scatter(cbs['Tweets Ago'], cbs['Compound Score'], c='g', edgecolor='k', label='CBS')\n",
    "plt.scatter(cnn['Tweets Ago'], cnn['Compound Score'], c='r', edgecolor='k', label='CNN')\n",
    "plt.scatter(fox['Tweets Ago'], fox['Compound Score'], c='navy', edgecolor='k', label='Fox')\n",
    "plt.scatter(nyt['Tweets Ago'], nyt['Compound Score'], c='y', edgecolor='k', label='New York Times')\n",
    "\n",
    "\n",
    "plt.title(\"Sentiment Analysis of Media Tweets (%s)\"% (time.strftime(\"%m/%d/%Y\")))\n",
    "plt.xlabel(\"Tweets Ago\")\n",
    "plt.xlim(105,-5)\n",
    "plt.ylabel(\"Tweet Polarity\")\n",
    "plt.ylim(-1.1,1.1)\n",
    "plt.legend(bbox_to_anchor=(1, 0.95), title='Media Sources', fontsize='medium')\n",
    "\n",
    "plt.savefig(\"Sentiment_Analysis_of_Tweets.png\", bbox_inches=\"tight\")\n",
    "plt.show()"
   ]
  },
  {
   "cell_type": "code",
   "execution_count": 34,
   "metadata": {},
   "outputs": [
    {
     "data": {
      "image/png": "[encoded data removed]",
      "text/plain": [
       "<Figure size 432x288 with 1 Axes>"
      ]
     },
     "metadata": {},
     "output_type": "display_data"
    }
   ],
   "source": [
    "plt.bar(0, bbc['Compound Score'].mean(), color='c', edgecolor='k', width=1)\n",
    "plt.bar(1, cbs['Compound Score'].mean(), color='g', edgecolor='k', width=1)\n",
    "plt.bar(2, cnn['Compound Score'].mean(), color='r', edgecolor='k', width=1)\n",
    "plt.bar(3, fox['Compound Score'].mean(), color='navy', edgecolor='k', width=1)\n",
    "plt.bar(4, nyt['Compound Score'].mean(), color='y', edgecolor='k', width=1)\n",
    "\n",
    "plt.title(\"Overall Media Sentiment based on Twitter (%s)\" % (time.strftime(\"%m/%d/%Y\")))\n",
    "plt.ylabel(\"Tweet Polarity\")\n",
    "plt.ylim(-1,1)\n",
    "\n",
    "x_labels = [\"BBCWorld\", \"CBS\", \"CNN\", \"Fox\", \"NYT\"]\n",
    "\n",
    "x_locations = [value for value in np.arange(5)]\n",
    "plt.xticks(x_locations, x_labels)\n",
    "\n",
    "for a,b in zip(np.arange(5), [bbc['Compound Score'].mean(),cbs['Compound Score'].mean(),\n",
    "                              cnn['Compound Score'].mean(),\n",
    "                             fox['Compound Score'].mean(),nyt['Compound Score'].mean()]):\n",
    "    if b > 0:\n",
    "        plt.text(a-0.2,b-b-0.015,str(round(b,3)))\n",
    "    else:\n",
    "        plt.text(a-0.2,b-b+0.01,str(round(b,3)))\n",
    "\n",
    "plt.savefig(\"Overall_Media_Sentiment.png\")\n",
    "plt.show()"
   ]
  },
  {
   "cell_type": "code",
   "execution_count": 35,
   "metadata": {},
   "outputs": [],
   "source": [
    "tweets_df.to_csv(\"Tweets_Sentiment_Analysis.csv\", index=False)"
   ]
  },
  {
   "cell_type": "code",
   "execution_count": null,
   "metadata": {},
   "outputs": [],
   "source": []
  },
  {
   "cell_type": "code",
   "execution_count": null,
   "metadata": {},
   "outputs": [],
   "source": []
  }
 ],
 "metadata": {
  "kernelspec": {
   "display_name": "Python 3",
   "language": "python",
   "name": "python3"
  },
  "language_info": {
   "codemirror_mode": {
    "name": "ipython",
    "version": 3
   },
   "file_extension": ".py",
   "mimetype": "text/x-python",
   "name": "python",
   "nbconvert_exporter": "python",
   "pygments_lexer": "ipython3",
   "version": "3.6.5"
  }
 },
 "nbformat": 4,
 "nbformat_minor": 2
}
